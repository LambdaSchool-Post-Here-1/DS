{
 "cells": [
  {
   "cell_type": "code",
   "execution_count": 12,
   "metadata": {},
   "outputs": [
    {
     "data": {
      "text/html": [
       "<div>\n",
       "<style scoped>\n",
       "    .dataframe tbody tr th:only-of-type {\n",
       "        vertical-align: middle;\n",
       "    }\n",
       "\n",
       "    .dataframe tbody tr th {\n",
       "        vertical-align: top;\n",
       "    }\n",
       "\n",
       "    .dataframe thead th {\n",
       "        text-align: right;\n",
       "    }\n",
       "</style>\n",
       "<table border=\"1\" class=\"dataframe\">\n",
       "  <thead>\n",
       "    <tr style=\"text-align: right;\">\n",
       "      <th></th>\n",
       "      <th>Subreddit</th>\n",
       "      <th>Tokens</th>\n",
       "    </tr>\n",
       "  </thead>\n",
       "  <tbody>\n",
       "    <tr>\n",
       "      <th>0</th>\n",
       "      <td>24hoursupport</td>\n",
       "      <td>['like', 'helping', 'come', 'hang', 'new', 'di...</td>\n",
       "    </tr>\n",
       "    <tr>\n",
       "      <th>1</th>\n",
       "      <td>24hoursupport</td>\n",
       "      <td>['acer', 'laptop', 'corrupt', 'windows', 'turn...</td>\n",
       "    </tr>\n",
       "    <tr>\n",
       "      <th>2</th>\n",
       "      <td>24hoursupport</td>\n",
       "      <td>['downloaded', 'trojan', 'file', 'window', 'de...</td>\n",
       "    </tr>\n",
       "    <tr>\n",
       "      <th>3</th>\n",
       "      <td>24hoursupport</td>\n",
       "      <td>['help', 'accessed', 'smart', 'remote', 'butto...</td>\n",
       "    </tr>\n",
       "    <tr>\n",
       "      <th>4</th>\n",
       "      <td>24hoursupport</td>\n",
       "      <td>['problem', 'network', 'adapter', 'i’m', 'havi...</td>\n",
       "    </tr>\n",
       "  </tbody>\n",
       "</table>\n",
       "</div>"
      ],
      "text/plain": [
       "       Subreddit                                             Tokens\n",
       "0  24hoursupport  ['like', 'helping', 'come', 'hang', 'new', 'di...\n",
       "1  24hoursupport  ['acer', 'laptop', 'corrupt', 'windows', 'turn...\n",
       "2  24hoursupport  ['downloaded', 'trojan', 'file', 'window', 'de...\n",
       "3  24hoursupport  ['help', 'accessed', 'smart', 'remote', 'butto...\n",
       "4  24hoursupport  ['problem', 'network', 'adapter', 'i’m', 'havi..."
      ]
     },
     "execution_count": 12,
     "metadata": {},
     "output_type": "execute_result"
    }
   ],
   "source": [
    "import pandas as pd\n",
    "from sklearn.feature_extraction.text import CountVectorizer\n",
    "\n",
    "df = pd.read_csv('./data/datasets/cleaned_data.csv')\n",
    "\n",
    "df.head()"
   ]
  },
  {
   "cell_type": "markdown",
   "metadata": {},
   "source": [
    "## Visualize Word Count (CountVectorizer)"
   ]
  },
  {
   "cell_type": "code",
   "execution_count": 21,
   "metadata": {},
   "outputs": [
    {
     "data": {
      "text/html": [
       "<div>\n",
       "<style scoped>\n",
       "    .dataframe tbody tr th:only-of-type {\n",
       "        vertical-align: middle;\n",
       "    }\n",
       "\n",
       "    .dataframe tbody tr th {\n",
       "        vertical-align: top;\n",
       "    }\n",
       "\n",
       "    .dataframe thead th {\n",
       "        text-align: right;\n",
       "    }\n",
       "</style>\n",
       "<table border=\"1\" class=\"dataframe\">\n",
       "  <thead>\n",
       "    <tr style=\"text-align: right;\">\n",
       "      <th></th>\n",
       "      <th>word</th>\n",
       "      <th>count</th>\n",
       "    </tr>\n",
       "  </thead>\n",
       "  <tbody>\n",
       "    <tr>\n",
       "      <th>0</th>\n",
       "      <td>im</td>\n",
       "      <td>850</td>\n",
       "    </tr>\n",
       "    <tr>\n",
       "      <th>1</th>\n",
       "      <td>like</td>\n",
       "      <td>848</td>\n",
       "    </tr>\n",
       "    <tr>\n",
       "      <th>2</th>\n",
       "      <td>know</td>\n",
       "      <td>662</td>\n",
       "    </tr>\n",
       "    <tr>\n",
       "      <th>3</th>\n",
       "      <td>time</td>\n",
       "      <td>655</td>\n",
       "    </tr>\n",
       "    <tr>\n",
       "      <th>4</th>\n",
       "      <td>dont</td>\n",
       "      <td>566</td>\n",
       "    </tr>\n",
       "  </tbody>\n",
       "</table>\n",
       "</div>"
      ],
      "text/plain": [
       "   word  count\n",
       "0    im    850\n",
       "1  like    848\n",
       "2  know    662\n",
       "3  time    655\n",
       "4  dont    566"
      ]
     },
     "execution_count": 21,
     "metadata": {},
     "output_type": "execute_result"
    }
   ],
   "source": [
    "vect = CountVectorizer()\n",
    "vect.fit(df['Tokens'])\n",
    "\n",
    "# Create DTM\n",
    "dtm = vect.transform(df['Tokens'])\n",
    "\n",
    "dtm = pd.DataFrame(dtm.todense(), columns=vect.get_feature_names())\n",
    "\n",
    "most_common_words = pd.DataFrame(dtm.sum().sort_values(ascending=False))\n",
    "\n",
    "most_common_words.reset_index(inplace=True)  # Resetting the index to replace column names\n",
    "\n",
    "most_common_words.columns = ['word', 'count']\n",
    "\n",
    "most_common_words.head()"
   ]
  },
  {
   "cell_type": "code",
   "execution_count": 27,
   "metadata": {},
   "outputs": [
    {
     "data": {
      "image/png": "[encoded data removed]",
      "text/plain": [
       "<Figure size 1800x720 with 1 Axes>"
      ]
     },
     "metadata": {
      "needs_background": "light"
     },
     "output_type": "display_data"
    }
   ],
   "source": [
    "import matplotlib.pyplot as plt\n",
    "\n",
    "# Visualize for better understanding\n",
    "rcParams['figure.figsize'] = 25, 10\n",
    "\n",
    "ten_most_common_words = most_common_words.head(25)  # The 10 most common words\n",
    "\n",
    "plt.bar(x=ten_most_common_words['word'], height=ten_most_common_words['count'])\n",
    "plt.ylabel('Number of Times Word Used')\n",
    "plt.title('Most commonly used words in Tech Support Subreddits')\n",
    "plt.show();\n",
    "\n",
    "# Few more stop words to add here: ['im', 'like', 'know', 'dont', 'ive']"
   ]
  },
  {
   "cell_type": "markdown",
   "metadata": {},
   "source": [
    "## Visualize Word Frequency (TF-IDF Vectorizer)"
   ]
  },
  {
   "cell_type": "code",
   "execution_count": 28,
   "metadata": {},
   "outputs": [
    {
     "data": {
      "text/html": [
       "<div>\n",
       "<style scoped>\n",
       "    .dataframe tbody tr th:only-of-type {\n",
       "        vertical-align: middle;\n",
       "    }\n",
       "\n",
       "    .dataframe tbody tr th {\n",
       "        vertical-align: top;\n",
       "    }\n",
       "\n",
       "    .dataframe thead th {\n",
       "        text-align: right;\n",
       "    }\n",
       "</style>\n",
       "<table border=\"1\" class=\"dataframe\">\n",
       "  <thead>\n",
       "    <tr style=\"text-align: right;\">\n",
       "      <th></th>\n",
       "      <th>word</th>\n",
       "      <th>count</th>\n",
       "    </tr>\n",
       "  </thead>\n",
       "  <tbody>\n",
       "    <tr>\n",
       "      <th>0</th>\n",
       "      <td>im</td>\n",
       "      <td>30.697509</td>\n",
       "    </tr>\n",
       "    <tr>\n",
       "      <th>1</th>\n",
       "      <td>pc</td>\n",
       "      <td>26.850268</td>\n",
       "    </tr>\n",
       "    <tr>\n",
       "      <th>2</th>\n",
       "      <td>like</td>\n",
       "      <td>26.245425</td>\n",
       "    </tr>\n",
       "    <tr>\n",
       "      <th>3</th>\n",
       "      <td>know</td>\n",
       "      <td>23.898246</td>\n",
       "    </tr>\n",
       "    <tr>\n",
       "      <th>4</th>\n",
       "      <td>help</td>\n",
       "      <td>23.467995</td>\n",
       "    </tr>\n",
       "  </tbody>\n",
       "</table>\n",
       "</div>"
      ],
      "text/plain": [
       "   word      count\n",
       "0    im  30.697509\n",
       "1    pc  26.850268\n",
       "2  like  26.245425\n",
       "3  know  23.898246\n",
       "4  help  23.467995"
      ]
     },
     "execution_count": 28,
     "metadata": {},
     "output_type": "execute_result"
    }
   ],
   "source": [
    "vect = TfidfVectorizer()\n",
    "vect.fit(df['Tokens'])\n",
    "\n",
    "# Create DTM\n",
    "dtm = vect.transform(df['Tokens'])\n",
    "\n",
    "dtm = pd.DataFrame(dtm.todense(), columns=vect.get_feature_names())\n",
    "\n",
    "most_common_words = pd.DataFrame(dtm.sum().sort_values(ascending=False))\n",
    "\n",
    "most_common_words.reset_index(inplace=True)  # Resetting the index to replace column names\n",
    "\n",
    "most_common_words.columns = ['word', 'count']\n",
    "\n",
    "most_common_words.head()"
   ]
  },
  {
   "cell_type": "code",
   "execution_count": 29,
   "metadata": {},
   "outputs": [
    {
     "data": {
      "image/png": "[encoded data removed]",
      "text/plain": [
       "<Figure size 1800x720 with 1 Axes>"
      ]
     },
     "metadata": {
      "needs_background": "light"
     },
     "output_type": "display_data"
    }
   ],
   "source": [
    "\n",
    "ten_most_common_words = most_common_words.head(25)  # The 10 most common words\n",
    "\n",
    "plt.bar(x=ten_most_common_words['word'], height=ten_most_common_words['count'])\n",
    "plt.ylabel('Frequency of Word')\n",
    "plt.title('Most commonly used words in Tech Support Subreddits')\n",
    "plt.show();\n",
    "\n",
    "# Few more stop words to add here: ['im', 'like', 'know', 'dont', 'ive']"
   ]
  }
 ],
 "metadata": {
  "kernelspec": {
   "display_name": "RedditPostHereBuild",
   "language": "python",
   "name": "redditpostherebuild"
  },
  "language_info": {
   "codemirror_mode": {
    "name": "ipython",
    "version": 3
   },
   "file_extension": ".py",
   "mimetype": "text/x-python",
   "name": "python",
   "nbconvert_exporter": "python",
   "pygments_lexer": "ipython3",
   "version": "3.6.9"
  }
 },
 "nbformat": 4,
 "nbformat_minor": 4
}
