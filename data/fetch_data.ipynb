{
 "cells": [
  {
   "cell_type": "code",
   "execution_count": 1,
   "metadata": {},
   "outputs": [],
   "source": [
    "\"\"\"Fetches top 100 posts from list of tech support subreddits.\"\"\"\n",
    "\n",
    "import os\n",
    "import pandas as pd\n",
    "import praw  # Reddit API wrapper\n",
    "from decouple import config\n",
    "\n",
    "# Make connection to Reddit API\n",
    "r = praw.Reddit(client_id=config('CLIENT_ID'),\n",
    "                client_secret=config('CLIENT_SECRET'),\n",
    "                username=config('USERNAME'),\n",
    "                password=config('PASSWORD'),\n",
    "                user_agent=config('USER_AGENT'))\n",
    "\n",
    "# Tech support subreddits that we'll be using.\n",
    "subreddits = ['24hoursupport', 'Android', 'Applehelp', 'asktechnology',\n",
    "              'buildapc', 'linux4noobs', 'pcgamingtechsupport',\n",
    "              'talesfromtechsupport', 'techsupport']\n",
    "\n",
    "df = pd.DataFrame(columns=['Subreddit', 'Text'])  # Making a dataframe with the columns we'll be using."
   ]
  },
  {
   "cell_type": "code",
   "execution_count": 2,
   "metadata": {},
   "outputs": [],
   "source": [
    "# This will populate the dataframe with text from the top 25 results for each subreddit in `subreddits` (Reddit's API only allows for 25 per request)\n",
    "for sub in subreddits:\n",
    "    subreddit = r.subreddit(sub)\n",
    "    for submission in subreddit.top(limit=25):\n",
    "        post = r.submission(id=submission.id)\n",
    "        if post.selftext != '':  # Ensures that there is text within the post\n",
    "            df = df.append({'Subreddit': subreddit.display_name,\n",
    "                            'Text': post.selftext}, ignore_index=True)  # Selftext is the text from the post."
   ]
  },
  {
   "cell_type": "code",
   "execution_count": 3,
   "metadata": {},
   "outputs": [
    {
     "data": {
      "text/html": [
       "<div>\n",
       "<style scoped>\n",
       "    .dataframe tbody tr th:only-of-type {\n",
       "        vertical-align: middle;\n",
       "    }\n",
       "\n",
       "    .dataframe tbody tr th {\n",
       "        vertical-align: top;\n",
       "    }\n",
       "\n",
       "    .dataframe thead th {\n",
       "        text-align: right;\n",
       "    }\n",
       "</style>\n",
       "<table border=\"1\" class=\"dataframe\">\n",
       "  <thead>\n",
       "    <tr style=\"text-align: right;\">\n",
       "      <th></th>\n",
       "      <th>Subreddit</th>\n",
       "      <th>Text</th>\n",
       "    </tr>\n",
       "  </thead>\n",
       "  <tbody>\n",
       "    <tr>\n",
       "      <th>0</th>\n",
       "      <td>24hoursupport</td>\n",
       "      <td>* * *\\n\\n* * *\\n\\nAs of **[April 2014](http://...</td>\n",
       "    </tr>\n",
       "    <tr>\n",
       "      <th>1</th>\n",
       "      <td>24hoursupport</td>\n",
       "      <td>I was trying to download a streaming movie/tv ...</td>\n",
       "    </tr>\n",
       "    <tr>\n",
       "      <th>2</th>\n",
       "      <td>Android</td>\n",
       "      <td>I know the title is rather sensational, howeve...</td>\n",
       "    </tr>\n",
       "    <tr>\n",
       "      <th>3</th>\n",
       "      <td>Android</td>\n",
       "      <td>A notable amount of people already bought new ...</td>\n",
       "    </tr>\n",
       "    <tr>\n",
       "      <th>4</th>\n",
       "      <td>Applehelp</td>\n",
       "      <td>EDIT: Going to bed now (hopefully I can sleep)...</td>\n",
       "    </tr>\n",
       "  </tbody>\n",
       "</table>\n",
       "</div>"
      ],
      "text/plain": [
       "       Subreddit                                               Text\n",
       "0  24hoursupport  * * *\\n\\n* * *\\n\\nAs of **[April 2014](http://...\n",
       "1  24hoursupport  I was trying to download a streaming movie/tv ...\n",
       "2        Android  I know the title is rather sensational, howeve...\n",
       "3        Android  A notable amount of people already bought new ...\n",
       "4      Applehelp  EDIT: Going to bed now (hopefully I can sleep)..."
      ]
     },
     "execution_count": 3,
     "metadata": {},
     "output_type": "execute_result"
    }
   ],
   "source": [
    "df = df.dropna()\n",
    "\n",
    "df.head()"
   ]
  },
  {
   "cell_type": "code",
   "execution_count": 4,
   "metadata": {},
   "outputs": [],
   "source": [
    "df.to_csv('datasets/fetched_data.csv', index=False)  # Sending to CSV"
   ]
  }
 ],
 "metadata": {
  "kernelspec": {
   "display_name": "PostHereBuild",
   "language": "python",
   "name": "postherebuild"
  },
  "language_info": {
   "codemirror_mode": {
    "name": "ipython",
    "version": 3
   },
   "file_extension": ".py",
   "mimetype": "text/x-python",
   "name": "python",
   "nbconvert_exporter": "python",
   "pygments_lexer": "ipython3",
   "version": "3.6.9"
  }
 },
 "nbformat": 4,
 "nbformat_minor": 4
}
