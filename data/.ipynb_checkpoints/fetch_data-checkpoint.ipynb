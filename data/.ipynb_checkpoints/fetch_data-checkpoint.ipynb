{
 "cells": [
  {
   "cell_type": "code",
   "execution_count": 1,
   "metadata": {},
   "outputs": [],
   "source": [
    "\"\"\"Fetches top 100 posts from list of tech support subreddits.\"\"\"\n",
    "\n",
    "import os\n",
    "import pandas as pd\n",
    "import praw  # Reddit API wrapper\n",
    "from decouple import config\n",
    "\n",
    "# Make connection to Reddit API\n",
    "r = praw.Reddit(client_id=config('CLIENT_ID'),\n",
    "                client_secret=config('CLIENT_SECRET'),\n",
    "                username=config('USERNAME'),\n",
    "                password=config('PASSWORD'),\n",
    "                user_agent=config('USER_AGENT'))\n",
    "\n",
    "# Tech support subreddits that we'll be using.\n",
    "subreddits = ['24hoursupport', 'Android', 'Applehelp', 'asktechnology',\n",
    "              'buildapc', 'linux4noobs', 'pcgamingtechsupport',\n",
    "              'talesfromtechsupport', 'techsupport']\n",
    "\n",
    "df = pd.DataFrame(columns=['Subreddit', 'Text'])  # Making a dataframe with the columns we'll be using."
   ]
  },
  {
   "cell_type": "code",
   "execution_count": null,
   "metadata": {},
   "outputs": [],
   "source": [
    "# This will populate the dataframe with text from the top 25 results for each subreddit in `subreddits` (Reddit's API only allows for 25 per request)\n",
    "for sub in subreddits:\n",
    "    subreddit = r.subreddit(sub)\n",
    "    for submission in subreddit.top(limit=25):\n",
    "        post = r.submission(id=submission.id)\n",
    "        if post.selftext != '':  # Ensures that there is text within the post\n",
    "            df = df.append({'Subreddit': subreddit.display_name,\n",
    "                            'Text': post.selftext}, ignore_index=True)  # Selftext is the text from the post."
   ]
  },
  {
   "cell_type": "code",
   "execution_count": null,
   "metadata": {},
   "outputs": [],
   "source": [
    "df = df.dropna()\n",
    "\n",
    "df.head()"
   ]
  },
  {
   "cell_type": "code",
   "execution_count": null,
   "metadata": {},
   "outputs": [],
   "source": [
    "df.to_csv('datasets/fetched_data.csv', index=False)  # Sending to CSV"
   ]
  }
 ],
 "metadata": {
  "kernelspec": {
   "display_name": "PostHereBuild",
   "language": "python",
   "name": "postherebuild"
  },
  "language_info": {
   "codemirror_mode": {
    "name": "ipython",
    "version": 3
   },
   "file_extension": ".py",
   "mimetype": "text/x-python",
   "name": "python",
   "nbconvert_exporter": "python",
   "pygments_lexer": "ipython3",
   "version": "3.6.9"
  }
 },
 "nbformat": 4,
 "nbformat_minor": 4
}
