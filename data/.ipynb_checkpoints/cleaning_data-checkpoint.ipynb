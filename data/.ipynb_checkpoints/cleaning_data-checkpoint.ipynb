{
 "cells": [
  {
   "cell_type": "code",
   "execution_count": 1,
   "metadata": {},
   "outputs": [
    {
     "data": {
      "text/html": [
       "<div>\n",
       "<style scoped>\n",
       "    .dataframe tbody tr th:only-of-type {\n",
       "        vertical-align: middle;\n",
       "    }\n",
       "\n",
       "    .dataframe tbody tr th {\n",
       "        vertical-align: top;\n",
       "    }\n",
       "\n",
       "    .dataframe thead th {\n",
       "        text-align: right;\n",
       "    }\n",
       "</style>\n",
       "<table border=\"1\" class=\"dataframe\">\n",
       "  <thead>\n",
       "    <tr style=\"text-align: right;\">\n",
       "      <th></th>\n",
       "      <th>Subreddit</th>\n",
       "      <th>Text</th>\n",
       "    </tr>\n",
       "  </thead>\n",
       "  <tbody>\n",
       "    <tr>\n",
       "      <th>0</th>\n",
       "      <td>24hoursupport</td>\n",
       "      <td>* * *\\n\\n* * *\\n\\nAs of **[April 2014](http://...</td>\n",
       "    </tr>\n",
       "    <tr>\n",
       "      <th>1</th>\n",
       "      <td>24hoursupport</td>\n",
       "      <td>I was trying to download a streaming movie/tv ...</td>\n",
       "    </tr>\n",
       "    <tr>\n",
       "      <th>2</th>\n",
       "      <td>24hoursupport</td>\n",
       "      <td>[](/resolved)\\nI have **resolved** this issue ...</td>\n",
       "    </tr>\n",
       "    <tr>\n",
       "      <th>3</th>\n",
       "      <td>24hoursupport</td>\n",
       "      <td>\\n[](/resolved)</td>\n",
       "    </tr>\n",
       "    <tr>\n",
       "      <th>4</th>\n",
       "      <td>Android</td>\n",
       "      <td>I know the title is rather sensational, howeve...</td>\n",
       "    </tr>\n",
       "  </tbody>\n",
       "</table>\n",
       "</div>"
      ],
      "text/plain": [
       "       Subreddit                                               Text\n",
       "0  24hoursupport  * * *\\n\\n* * *\\n\\nAs of **[April 2014](http://...\n",
       "1  24hoursupport  I was trying to download a streaming movie/tv ...\n",
       "2  24hoursupport  [](/resolved)\\nI have **resolved** this issue ...\n",
       "3  24hoursupport                                    \\n[](/resolved)\n",
       "4        Android  I know the title is rather sensational, howeve..."
      ]
     },
     "execution_count": 1,
     "metadata": {},
     "output_type": "execute_result"
    }
   ],
   "source": [
    "import pandas as pd\n",
    "import re\n",
    "\n",
    "df = pd.read_csv('datasets/fetched_data.csv')\n",
    "\n",
    "df.head()"
   ]
  },
  {
   "cell_type": "code",
   "execution_count": 2,
   "metadata": {},
   "outputs": [
    {
     "data": {
      "text/html": [
       "<div>\n",
       "<style scoped>\n",
       "    .dataframe tbody tr th:only-of-type {\n",
       "        vertical-align: middle;\n",
       "    }\n",
       "\n",
       "    .dataframe tbody tr th {\n",
       "        vertical-align: top;\n",
       "    }\n",
       "\n",
       "    .dataframe thead th {\n",
       "        text-align: right;\n",
       "    }\n",
       "</style>\n",
       "<table border=\"1\" class=\"dataframe\">\n",
       "  <thead>\n",
       "    <tr style=\"text-align: right;\">\n",
       "      <th></th>\n",
       "      <th>Subreddit</th>\n",
       "      <th>Text</th>\n",
       "    </tr>\n",
       "  </thead>\n",
       "  <tbody>\n",
       "    <tr>\n",
       "      <th>0</th>\n",
       "      <td>24hoursupport</td>\n",
       "      <td>As of [April 2014](http://codepen.io/T...</td>\n",
       "    </tr>\n",
       "    <tr>\n",
       "      <th>1</th>\n",
       "      <td>24hoursupport</td>\n",
       "      <td>I was trying to download a streaming movie/tv ...</td>\n",
       "    </tr>\n",
       "    <tr>\n",
       "      <th>2</th>\n",
       "      <td>24hoursupport</td>\n",
       "      <td>[](/resolved) I have resolved this issue on my...</td>\n",
       "    </tr>\n",
       "    <tr>\n",
       "      <th>3</th>\n",
       "      <td>Android</td>\n",
       "      <td>I know the title is rather sensational, howeve...</td>\n",
       "    </tr>\n",
       "    <tr>\n",
       "      <th>4</th>\n",
       "      <td>Android</td>\n",
       "      <td>A notable amount of people already bought new ...</td>\n",
       "    </tr>\n",
       "  </tbody>\n",
       "</table>\n",
       "</div>"
      ],
      "text/plain": [
       "       Subreddit                                               Text\n",
       "0  24hoursupport          As of [April 2014](http://codepen.io/T...\n",
       "1  24hoursupport  I was trying to download a streaming movie/tv ...\n",
       "2  24hoursupport  [](/resolved) I have resolved this issue on my...\n",
       "3        Android  I know the title is rather sensational, howeve...\n",
       "4        Android  A notable amount of people already bought new ..."
      ]
     },
     "execution_count": 2,
     "metadata": {},
     "output_type": "execute_result"
    }
   ],
   "source": [
    "df['Text'] = df['Text'].str.replace('\\n', ' ')  # Replaces line breaks with spaces\n",
    "df['Text'] = df['Text'].str.replace('*', '')  # Removes asterisks\n",
    "df = df[df['Text'] != ' [](/resolved)'].reset_index(drop=True) # Remove blank resolved posts.\n",
    "df.head()"
   ]
  },
  {
   "cell_type": "code",
   "execution_count": 3,
   "metadata": {},
   "outputs": [],
   "source": [
    "# Removes URLs\n",
    "url_regex = r'http[s]?://(?:[a-zA-Z]|[0-9]|[$-_@.&+]|[!*\\(\\),]|(?:%[0-9a-fA-F][0-9a-fA-F]))+'\n",
    "df['Text'] = df['Text'].apply(lambda x: re.sub(url_regex, '', x))\n",
    "\n",
    "# Removes anything in brackets (generally irrelevant; our use case is in finding the proper technical support subreddit)\n",
    "df['Text'] = df['Text'].apply(lambda x: re.sub(r'\\[.*?\\]', '', x))"
   ]
  },
  {
   "cell_type": "code",
   "execution_count": 4,
   "metadata": {},
   "outputs": [
    {
     "data": {
      "text/plain": [
       "(        Subreddit                                               Text\n",
       " 0   24hoursupport          As of ( Microsoft is officially finish...\n",
       " 1   24hoursupport  I was trying to download a streaming movie/tv ...\n",
       " 2   24hoursupport  (/resolved) I have resolved this issue on my o...\n",
       " 3         Android  I know the title is rather sensational, howeve...\n",
       " 4         Android  A notable amount of people already bought new ...\n",
       " 5         Android  There is an upcoming change to the YouTube ToS...\n",
       " 6         Android  Let's say the speculation ends up being true a...\n",
       " 7         Android  Pictures:   I had it in my back pocket before ...\n",
       " 8         Android  A year ago, almost to the day, I compiled a po...\n",
       " 9         Android  Forcing me to mobile versions of YouTube/imgur...\n",
       " 10        Android  Many of us are frustrated at the release of Al...\n",
       " 11        Android  EDIT: Here's a better example:   I know I don'...\n",
       " 12        Android  I remember being super mind-blown by NFC tags ...\n",
       " 13        Android  The app lacks some very basic features and als...\n",
       " 14        Android  I currently am using a Galaxy S10+ but to be f...\n",
       " 15        Android  Basically, there are more then 15+ giveaways s...\n",
       " 16        Android  I was reading ( and when I checked the sources...\n",
       " 17        Android  How cool would it be to recieve your brand new...\n",
       " 18      Applehelp  EDIT: Going to bed now (hopefully I can sleep)...\n",
       " 19      Applehelp  I keep seeing people complaining about their l...\n",
       " 20      Applehelp  Hey all. Like I said in the title, I just orde...\n",
       " 21      Applehelp  Just wanted to show my appreciation to all the...\n",
       " 22      Applehelp  After reading the ( on /r/apple about how litt...\n",
       " 23      Applehelp  I ordered a new pair of AirPod Pros but couldn...\n",
       " 24      Applehelp   I’ve heard and seen this Phishing attempt in ...,\n",
       "        Subreddit                                               Text\n",
       " 642  techsupport  Sorry you probably get a lot of these. My PC t...\n",
       " 643  techsupport  Hi, not sure how this happened as no one on Ea...\n",
       " 644  techsupport  I pay for a VPN service through ExpressVPN. I'...\n",
       " 645  techsupport  I did a coding bootcamp recently and rented a ...\n",
       " 646  techsupport  So long story short, I made someone in a game ...\n",
       " 647  techsupport  I tried playing some music tonight but I heard...\n",
       " 648  techsupport  I have very little knowledge about how interne...\n",
       " 649  techsupport  Been dealing with a constantly-almost-full C d...\n",
       " 650  techsupport  Folks:  There are many support groups, 12 step...\n",
       " 651  techsupport  I'm using FireFox and there seems to be little...\n",
       " 652  techsupport  I bought a cheap chromebook on amazon I was go...\n",
       " 653  techsupport  So, I don't know if it's an official new thing...\n",
       " 654  techsupport  Is there a way to forcibly and permanently dis...\n",
       " 655  techsupport  There’s a woman with my same name who hands my...\n",
       " 656  techsupport  So yeah, my internet ain't slow at all, I got ...\n",
       " 657  techsupport  I should preface with the fact that I don't kn...\n",
       " 658  techsupport  I noticed loud noises after watching movies or...\n",
       " 659  techsupport  Hey guys,   My 2.5yr old lenovo yoga laptop's ...\n",
       " 660  techsupport  Fuckin' mayo packet in my backpack squirted th...\n",
       " 661  techsupport  So about 2 1/2 hours ago I just finish work. I...\n",
       " 662  techsupport  hi i don’t know what’s going on at the moment ...\n",
       " 663  techsupport  My power supply is Seasonic S12II 620w 80+ bro...\n",
       " 664  techsupport  I had a Sidekick Slide as a teenager and was t...\n",
       " 665  techsupport  Gmail is down/fucked up, YouTube is down/fucke...\n",
       " 666  techsupport  I immediately alt+F4'd but nothing was working...)"
      ]
     },
     "execution_count": 4,
     "metadata": {},
     "output_type": "execute_result"
    }
   ],
   "source": [
    "df.head(25), df.tail(25)  # Checking things out, looks good here."
   ]
  },
  {
   "cell_type": "code",
   "execution_count": 5,
   "metadata": {},
   "outputs": [],
   "source": [
    "df.to_csv('datasets/cleaned_data.csv', index=False)"
   ]
  }
 ],
 "metadata": {
  "kernelspec": {
   "display_name": "Reddit-Build",
   "language": "python",
   "name": "reddit-build"
  },
  "language_info": {
   "codemirror_mode": {
    "name": "ipython",
    "version": 3
   },
   "file_extension": ".py",
   "mimetype": "text/x-python",
   "name": "python",
   "nbconvert_exporter": "python",
   "pygments_lexer": "ipython3",
   "version": "3.6.9"
  }
 },
 "nbformat": 4,
 "nbformat_minor": 4
}
